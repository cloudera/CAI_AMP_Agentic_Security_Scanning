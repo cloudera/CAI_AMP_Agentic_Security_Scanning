{
 "cells": [
  {
   "cell_type": "markdown",
   "metadata": {
    "vscode": {
     "languageId": "raw"
    }
   },
   "source": [
    "# Agentic AI Workflow System"
   ]
  },
  {
   "cell_type": "markdown",
   "metadata": {},
   "source": [
    "### Run Agentic AI Workflows on Cloudera AI Inference\n",
    "\n",
    "This notebook allow you to run an Agentic AI workflow to scan a github repository for OWASP TOP 10 vulnerabilities.\n",
    "\n",
    "Check out the AI Inference docs for setup instructions, such as how to generate a JWT token and model endpoint.\n",
    "\n",
    "https://docs.cloudera.com/machine-learning/cloud/ai-inference/topics/ml-caii-use-caii.html"
   ]
  },
  {
   "cell_type": "code",
   "execution_count": null,
   "metadata": {},
   "outputs": [],
   "source": [
    "# Install Dependencies\n",
    "!pip install -r 0_install-dependencies/requirements.txt"
   ]
  },
  {
   "cell_type": "code",
   "execution_count": null,
   "metadata": {},
   "outputs": [],
   "source": [
    "# Cloudera AI Inference Client options\n",
    "jwt = \"\"\n",
    "model_id= \"\"\n",
    "url= \"\"\n",
    "repo_url = \"https://github.com/OWASP/Vulnerable-Web-Application\""
   ]
  },
  {
   "cell_type": "code",
   "execution_count": null,
   "metadata": {},
   "outputs": [],
   "source": [
    "import agents\n",
    "import chunks\n",
    "import os\n",
    "import yaml"
   ]
  },
  {
   "cell_type": "code",
   "execution_count": null,
   "metadata": {},
   "outputs": [],
   "source": [
    "# Example usage of the AgenticWorkflow system\n",
    "def demo_workflow(client_type,jwt, url,repo_url, model_id, config_path: str = \"sec_agents.yaml\"):\n",
    "    \"\"\"Demonstrate the AgenticWorkflow system.\n",
    "    \n",
    "    Args:\n",
    "        client_type: Type of LLM client to use (\"bedrock\" or \"caii\")\n",
    "    \"\"\"\n",
    "    \n",
    "    # Initialize the workflow system\n",
    "    workflow = agents.AgenticWorkflow()\n",
    "    \n",
    "    # Clone and process the GitHub repository. You can scan any public repository easily\n",
    "\n",
    "    print(f\"Cloning repository: {repo_url}\")\n",
    "    \n",
    "    try:\n",
    "        # Initialize Git Repository Processor and process to markdown\n",
    "        git_processor = workflow.GitRepoProcessor(repo_url)\n",
    "        codebase_input_path = \"data/inputs/codebase_files.md\"\n",
    "        git_processor.process_repository(codebase_input_path)\n",
    "        \n",
    "        print(f\"Repository processed and saved to: {codebase_input_path}\")\n",
    "        \n",
    "        # Clean up cloned repository directory\n",
    "        git_processor.cleanup()\n",
    "        \n",
    "    except Exception as e:\n",
    "        print(f\"Error processing repository: {str(e)}\")\n",
    "        print(\"Workflow cannot continue without repository data.\")\n",
    "        return\n",
    "    \n",
    "    # Load configuration and run workflow    \n",
    "    if os.path.exists(config_path):\n",
    "        # Parse config\n",
    "        with open(config_path, 'r') as f:\n",
    "            parsed_config = yaml.safe_load(f)\n",
    "        \n",
    "        # Initialize LLM Client \n",
    "        # Depending on the LLM context window size, you can adjust max_token to speed up the chunking into the first agent\n",
    "        llm_client = workflow.LLMClient(client_type=client_type,jwt=jwt,url=url, model_id=model_id, max_tokens=40000)\n",
    "        \n",
    "        # Initialize the DAG constructor\n",
    "        constructor = workflow.DAGConstructor(jwt=jwt,config_path=config_path,llm_client=llm_client)\n",
    "        \n",
    "        # Build and execute the workflow\n",
    "        dag_executor_function = constructor.build_executor()\n",
    "        dag_executor_function()\n",
    "        \n",
    "    else:\n",
    "        print(f\"Configuration file {config_path} not found.\")\n",
    "        print(\"Please ensure agents.yaml exists in the current directory.\")\n"
   ]
  },
  {
   "cell_type": "code",
   "execution_count": null,
   "metadata": {
    "scrolled": false
   },
   "outputs": [],
   "source": [
    "# Run Security Workflow on Cloudera AI Inference\n",
    "demo_workflow(client_type=\"caii\",model_id=model_id,url=url,jwt=jwt,repo_url=repo_url)"
   ]
  },
  {
   "cell_type": "code",
   "execution_count": null,
   "metadata": {},
   "outputs": [],
   "source": [
    "# Run Documentation Workflow\n",
    "demo_workflow(client_type=\"caii\",config_path=\"docs_agents.yaml\",model_id=model_id,url=url,jwt=jwt)\n"
   ]
  },
  {
   "cell_type": "code",
   "execution_count": null,
   "metadata": {},
   "outputs": [],
   "source": [
    "# Run Test Coverage Workflow\n",
    "demo_workflow(client_type=\"caii\",config_path=\"test_agents.yaml\",model_id=model_id,url=url,jwt=jwt)\n"
   ]
  },
  {
   "cell_type": "markdown",
   "metadata": {},
   "source": [
    "### Run Security Workflow on AWS Bedrock"
   ]
  },
  {
   "cell_type": "code",
   "execution_count": null,
   "metadata": {},
   "outputs": [],
   "source": [
    "# Must have AWS_PROFILE and AWS_REGION, and be able to call aws sts to authenticate\n",
    "\n",
    "model_id =\"us.anthropic.claude-3-7-sonnet-20250219-v1:0\"\n",
    "jwt=\"\"\n",
    "demo_workflow(client_type=\"bedrock\",model_id=model_id,url=\"\",jwt=jwt)"
   ]
  },
  {
   "cell_type": "code",
   "execution_count": null,
   "metadata": {},
   "outputs": [],
   "source": []
  }
 ],
 "metadata": {
  "kernelspec": {
   "display_name": "Python 3 (ipykernel)",
   "language": "python",
   "name": "python3"
  },
  "language_info": {
   "codemirror_mode": {
    "name": "ipython",
    "version": 3
   },
   "file_extension": ".py",
   "mimetype": "text/x-python",
   "name": "python",
   "nbconvert_exporter": "python",
   "pygments_lexer": "ipython3",
   "version": "3.10.17"
  }
 },
 "nbformat": 4,
 "nbformat_minor": 2
}
